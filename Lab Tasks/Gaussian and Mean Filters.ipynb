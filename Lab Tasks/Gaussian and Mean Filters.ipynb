{
  "nbformat": 4,
  "nbformat_minor": 0,
  "metadata": {
    "kernelspec": {
      "display_name": "Python 3",
      "language": "python",
      "name": "python3"
    },
    "language_info": {
      "codemirror_mode": {
        "name": "ipython",
        "version": 3
      },
      "file_extension": ".py",
      "mimetype": "text/x-python",
      "name": "python",
      "nbconvert_exporter": "python",
      "pygments_lexer": "ipython3",
      "version": "3.8.5"
    },
    "colab": {
      "name": "CIE552_Spring2021_Assignment_Elsayed Mohammed Mostafa_201700316_filters.ipynb",
      "provenance": []
    }
  },
  "cells": [
    {
      "cell_type": "markdown",
      "metadata": {
        "id": "bPldE3769AzO"
      },
      "source": [
        "**University of Science and Technology UST,  Zewail City**<br>\n",
        "**CIE Program**<br>\n",
        "**Computer Vision - CIE 552**<br>\n",
        "**Lab Assignment #2**<br>"
      ]
    },
    {
      "cell_type": "markdown",
      "metadata": {
        "id": "ZlztyZrw9AzX"
      },
      "source": [
        "**Student Name:** Elsayed Mohammed Elsayed Mostafa <br>\n",
        "**Student ID:**   201700316"
      ]
    },
    {
      "cell_type": "markdown",
      "metadata": {
        "id": "CNHtMfL29AzZ"
      },
      "source": [
        "## Imports"
      ]
    },
    {
      "cell_type": "code",
      "metadata": {
        "id": "LmkdZ7Zi9AzZ"
      },
      "source": [
        "import cv2\n",
        "import numpy as np\n",
        "from scipy.signal import convolve2d, correlate2d"
      ],
      "execution_count": null,
      "outputs": []
    },
    {
      "cell_type": "markdown",
      "metadata": {
        "id": "i13QADMC9Aza"
      },
      "source": [
        "## Utility functions"
      ]
    },
    {
      "cell_type": "code",
      "metadata": {
        "id": "dgULn7Lk9Aza"
      },
      "source": [
        "def visualize_image(figure_name: str, img: np.ndarray):\n",
        "    '''''\n",
        "    A functions that visulaize the passed image using cv2 with a name for the figure\n",
        "    @Parameters \n",
        "        figure_name: The figure title\n",
        "        img: N-D array represents the image to be visulaized \n",
        "    @Author: Eng. Mohammed Elsayed (email: asmohamed@zewailcity.edu.eg)\n",
        "    '''''\n",
        "    cv2.imshow(figure_name, img)\n",
        "    cv2.waitKey(0)\n",
        "    cv2.destroyAllWindows()"
      ],
      "execution_count": null,
      "outputs": []
    },
    {
      "cell_type": "code",
      "metadata": {
        "id": "TGhUvm-v9Azb"
      },
      "source": [
        "def show_images(images, titles):\n",
        "    '''''\n",
        "    A functions that visulaize the passed image using cv2 with a name for the figure\n",
        "    @Parameters \n",
        "        figure_name: The figure title\n",
        "        img: N-D array represents the image to be visulaized \n",
        "    @Author: Eng. Mohammed Elsayed (email: asmohamed@zewailcity.edu.eg)\n",
        "    '''''\n",
        "    assert len(images) == len(titles)\n",
        "    for title in titles:\n",
        "        cv2.namedWindow(title, cv2.WINDOW_NORMAL)\n",
        "    \n",
        "    for title, img in zip(titles, images):\n",
        "        cv2.imshow(title, img)\n",
        "\n",
        "    cv2.waitKey(0)\n",
        "    cv2.destroyAllWindows()"
      ],
      "execution_count": null,
      "outputs": []
    },
    {
      "cell_type": "markdown",
      "metadata": {
        "id": "cEX0qwSO9Azb"
      },
      "source": [
        "## Creating filters functions"
      ]
    },
    {
      "cell_type": "markdown",
      "metadata": {
        "id": "hUjE3-pt9Azb"
      },
      "source": [
        "### Mean filter"
      ]
    },
    {
      "cell_type": "code",
      "metadata": {
        "id": "qYq-g9-q9Azc"
      },
      "source": [
        "def create_mean_filter(ksize):\n",
        "    '''''\n",
        "    - A functions creates a mean filter of an arbitrary odd size (ksize*ksize)\n",
        "    @Parameters \n",
        "        ksize: odd integer that represents the length and width of the mean filter\n",
        "    @Returns:\n",
        "        mean_filter: The obtained mean filter\n",
        "    '''''\n",
        "    # Assert that the length is odd\n",
        "    assert ksize%2 != 0\n",
        "    # Create the filter\n",
        "    return np.ones(shape=(ksize,ksize))/(ksize**2)\n"
      ],
      "execution_count": null,
      "outputs": []
    },
    {
      "cell_type": "markdown",
      "metadata": {
        "id": "rn2QQznM9Azc"
      },
      "source": [
        "### Gaussian filter"
      ]
    },
    {
      "cell_type": "markdown",
      "metadata": {
        "id": "gXghjgg39Azc"
      },
      "source": [
        "**The formula for gaussian filter is:**\n",
        "$$G(x, y) = A e^{\\frac{-(x - \\mu_x)^2}{2 \\sigma_x^2} + \\frac{-(y - \\mu_y)^2}{2 \\sigma_y^2}}$$\n",
        "* $G(x, y)$ is the Gaussian kernel\n",
        "* $\\mu$ is the mean \n",
        "* $\\sigma^2$ is the variance\n",
        "\n",
        "**Instead of having different values of standard deviations for x and y, the tradition is to have the same value for both. In addition the value for A is usually set by ($\\frac{1}{\\sqrt{2\\pi}\\sigma}$)**<br>\n",
        "*Reference:* https://homepages.inf.ed.ac.uk/rbf/HIPR2/gsmooth.htm"
      ]
    },
    {
      "cell_type": "code",
      "metadata": {
        "id": "AQNW3wbP9Azd"
      },
      "source": [
        "def create_gaussian_filter(ksize, sigma=(1,1)):\n",
        "    '''''\n",
        "    - A functions creates a gaussian filter of an arbitary size (ksize*ksize)\n",
        "    @Parameters: \n",
        "        ksize: odd integer that represents the length and width of the mean filter\n",
        "        sigma: a tuble/list of 2 elements represents (x_sigma, y_sigma), where sigma is the standard deviation of each direction\n",
        "               However, the default value if 1 for both.\n",
        "    @Returns:\n",
        "        gaussian_filter: The obtained mean filter\n",
        "    '''''\n",
        "    assert ksize % 2 != 0\n",
        "    \n",
        "    # For the value of A, in case of sigma_x != sigma_y, I'll use the mean of both sigmas to evaluate the value of A\n",
        "    A = 1/(2*np.pi*np.mean(sigma))\n",
        "    # Creating a linspace for each direction (2D)\n",
        "    x = np.linspace(start = 0, stop = ksize-1, num = ksize)\n",
        "    y = x.copy()\n",
        "    # Calculate the mean of each direction (One value as they're the same linspace)\n",
        "    mu = np.mean(x)\n",
        "    # Create the meshgrid that represents the 2D values as a grid\n",
        "    X, Y = np.meshgrid(x,y)\n",
        "    # Applying the gaussian filter equation on the created grid\n",
        "    gaussian_filter = A * np.exp((-(X-mu)**2)/(2*sigma[0]) + (-(Y-mu)**2)/(2*sigma[1])) \n",
        "    return gaussian_filter"
      ],
      "execution_count": null,
      "outputs": []
    },
    {
      "cell_type": "markdown",
      "metadata": {
        "id": "0fvqnv8L9Aze"
      },
      "source": [
        "## Reading the image"
      ]
    },
    {
      "cell_type": "code",
      "metadata": {
        "id": "5bK4xbiU9Aze",
        "outputId": "bb13722e-a08e-4748-c5fb-52f7d5fa8fb1"
      },
      "source": [
        "# Speicify the image path (just the name if it is in the same directory as the notebook/script)\n",
        "img_path = 'mona_lisa.jpg'\n",
        "# Read the image using openCV\n",
        "img = cv2.imread(img_path,cv2.IMREAD_GRAYSCALE)\n",
        "# Printing the image shape\n",
        "print('image shape = ',img.shape)\n",
        "# Visualizing the image\n",
        "visualize_image('original_image', img)"
      ],
      "execution_count": null,
      "outputs": [
        {
          "output_type": "stream",
          "text": [
            "image shape =  (530, 350)\n"
          ],
          "name": "stdout"
        }
      ]
    },
    {
      "cell_type": "code",
      "metadata": {
        "id": "-roO6GO29Azf"
      },
      "source": [
        "# Visualize the original image with 3 blurred images at different sizes\n",
        "mean_blur_img1 = cv2.blur(img, ksize=(5, 5), borderType=cv2.BORDER_CONSTANT)\n",
        "visualize_image('Mean blur', mean_blur_img1)"
      ],
      "execution_count": null,
      "outputs": []
    },
    {
      "cell_type": "markdown",
      "metadata": {
        "id": "I_1ENl_d9Azg"
      },
      "source": [
        "## Creating and applying the filters"
      ]
    },
    {
      "cell_type": "markdown",
      "metadata": {
        "id": "bjT5utzz9Azg"
      },
      "source": [
        "### Mean filter"
      ]
    },
    {
      "cell_type": "code",
      "metadata": {
        "id": "Z6N-zAEH9Azg",
        "outputId": "2c3823f3-a97d-4906-844c-7c28795be4e6"
      },
      "source": [
        "# Create the filter (kernel)\n",
        "mean_filter = create_mean_filter(5)\n",
        "print(mean_filter)"
      ],
      "execution_count": null,
      "outputs": [
        {
          "output_type": "stream",
          "text": [
            "[[0.04 0.04 0.04 0.04 0.04]\n",
            " [0.04 0.04 0.04 0.04 0.04]\n",
            " [0.04 0.04 0.04 0.04 0.04]\n",
            " [0.04 0.04 0.04 0.04 0.04]\n",
            " [0.04 0.04 0.04 0.04 0.04]]\n"
          ],
          "name": "stdout"
        }
      ]
    },
    {
      "cell_type": "code",
      "metadata": {
        "id": "Ha1kYmKi9Azh"
      },
      "source": [
        "# Correlating the filter with the image and visulaizing the output \n",
        "blurred_img = correlate2d(img, mean_filter,'same').astype(np.uint8)\n",
        "visualize_image('mean_filter',blurred_img)"
      ],
      "execution_count": null,
      "outputs": []
    },
    {
      "cell_type": "markdown",
      "metadata": {
        "id": "ztEm1nDM9Azi"
      },
      "source": [
        "### Gaussian filter"
      ]
    },
    {
      "cell_type": "code",
      "metadata": {
        "id": "LVkM75Qy9Azj",
        "outputId": "19620017-ba02-458f-daff-e7a2690433a1"
      },
      "source": [
        "# Create the filter (kernel)\n",
        "gaussian_filter = create_gaussian_filter(ksize=5, sigma=(3,3))\n",
        "print(gaussian_filter)"
      ],
      "execution_count": null,
      "outputs": [
        {
          "output_type": "stream",
          "text": [
            "[[0.01398426 0.02305615 0.02723762 0.02305615 0.01398426]\n",
            " [0.02305615 0.03801317 0.04490725 0.03801317 0.02305615]\n",
            " [0.02723762 0.04490725 0.05305165 0.04490725 0.02723762]\n",
            " [0.02305615 0.03801317 0.04490725 0.03801317 0.02305615]\n",
            " [0.01398426 0.02305615 0.02723762 0.02305615 0.01398426]]\n"
          ],
          "name": "stdout"
        }
      ]
    },
    {
      "cell_type": "code",
      "metadata": {
        "id": "Q63AxNM39Azj"
      },
      "source": [
        "# Correlating the filter with the image and visulaizing the output \n",
        "gauused_img = correlate2d(img, gaussian_filter,'same').astype(np.uint8)\n",
        "visualize_image('gaussian_filter',gauused_img)"
      ],
      "execution_count": null,
      "outputs": []
    },
    {
      "cell_type": "markdown",
      "metadata": {
        "id": "4w7N4M_J9Azk"
      },
      "source": [
        "## Testing"
      ]
    },
    {
      "cell_type": "markdown",
      "metadata": {
        "id": "VyZtY6f-9Azk"
      },
      "source": [
        "### Mean filter"
      ]
    },
    {
      "cell_type": "markdown",
      "metadata": {
        "id": "IffKRy6k9Azk"
      },
      "source": [
        "#### Testing for different kernel sizes"
      ]
    },
    {
      "cell_type": "code",
      "metadata": {
        "id": "Gp_3TH4L9Azk"
      },
      "source": [
        "# Speicfy the kernel size for each test\n",
        "ksizes = [3,5,7,13,21]\n",
        "# Creating the suitable title for each kernel size\n",
        "imgs_titles = ['mean filter of k='+str(k) for k in ksizes]\n",
        "# Applying the mean filters\n",
        "filtered_imgs = [correlate2d(img,create_mean_filter(ksize=k)).astype(np.uint8) for k in ksizes]\n",
        "# Visualizing the images\n",
        "show_images(filtered_imgs, imgs_titles)"
      ],
      "execution_count": null,
      "outputs": []
    },
    {
      "cell_type": "markdown",
      "metadata": {
        "id": "P0dkEr_N9Azl"
      },
      "source": [
        "### Gaussian filter"
      ]
    },
    {
      "cell_type": "markdown",
      "metadata": {
        "id": "AQX0f9SR9Azl"
      },
      "source": [
        "#### Testing for different kernel sizes"
      ]
    },
    {
      "cell_type": "code",
      "metadata": {
        "id": "xF7N4dZm9Azl"
      },
      "source": [
        "# Speicfy the kernel size, sigma_x, sigmas_y for each test\n",
        "ksizes = [3,5,7,13,21]\n",
        "sigma = (3, 3)\n",
        "\n",
        "# Creating the suitable title for each kernel size\n",
        "imgs_titles = ['gaussian filter of k= {}'.format(k) for k in ksizes]\n",
        "# Applying the mean filters\n",
        "filtered_imgs = [correlate2d(img,create_gaussian_filter(ksize=k, sigma=sigma)).astype(np.uint8) for k in ksizes]\n",
        "# Visualizing the images\n",
        "show_images(filtered_imgs, imgs_titles)"
      ],
      "execution_count": null,
      "outputs": []
    },
    {
      "cell_type": "markdown",
      "metadata": {
        "id": "L-AjUIFN9Azl"
      },
      "source": [
        "***From the results, I choose k=5 to continue in the following process.***"
      ]
    },
    {
      "cell_type": "markdown",
      "metadata": {
        "id": "lqI0PyQw9Azm"
      },
      "source": [
        "#### Testing for different values of $\\sigma$"
      ]
    },
    {
      "cell_type": "code",
      "metadata": {
        "id": "HdjWK9jT9Azm"
      },
      "source": [
        "# Speicfy the kernel size, sigma_x, sigmas_y for each test\n",
        "k = 5\n",
        "sigmas_x = [0.5, 1, 4, 10]\n",
        "sigmas_y = sigmas_x.copy()\n",
        "# Creating the suitable title for each kernel size\n",
        "imgs_titles = ['({},{})'.format(sigma_x, sigma_y) for sigma_x in sigmas_x for sigma_y in sigmas_y]\n",
        "# Applying the mean filters\n",
        "filtered_imgs = [correlate2d(img,create_gaussian_filter(k, (sigma_x,sigma_y))).astype(np.uint8) for sigma_x in sigmas_x for sigma_y in sigmas_y]\n",
        "# Visualizing the images\n",
        "show_images(filtered_imgs, imgs_titles)"
      ],
      "execution_count": null,
      "outputs": []
    },
    {
      "cell_type": "markdown",
      "metadata": {
        "id": "mOPn5Umj9Azm"
      },
      "source": [
        "#### Insights"
      ]
    },
    {
      "cell_type": "markdown",
      "metadata": {
        "id": "SjBH-Vo_9Azm"
      },
      "source": [
        "> The more difference between $\\sigma_x$ and $\\sigma_y$, the more tendency of the filtered image towards black. This happens because the value of A is closer less in such cases compared to the same value os $\\sigma_x$ ($\\sigma_y$) with lower value of  $\\sigma_y$ ($\\sigma_x$)"
      ]
    },
    {
      "cell_type": "markdown",
      "metadata": {
        "id": "uLHn35ty9Azn"
      },
      "source": [
        "> The higher values of $\\sigma$, the lower value of A and hence, the more tendency of the filtered image towards black color. "
      ]
    }
  ]
}