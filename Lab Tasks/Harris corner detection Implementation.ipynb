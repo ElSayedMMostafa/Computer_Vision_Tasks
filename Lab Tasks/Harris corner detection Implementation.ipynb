{
  "nbformat": 4,
  "nbformat_minor": 0,
  "metadata": {
    "kernelspec": {
      "display_name": "Python 3",
      "language": "python",
      "name": "python3"
    },
    "language_info": {
      "codemirror_mode": {
        "name": "ipython",
        "version": 3
      },
      "file_extension": ".py",
      "mimetype": "text/x-python",
      "name": "python",
      "nbconvert_exporter": "python",
      "pygments_lexer": "ipython3",
      "version": "3.8.5"
    },
    "colab": {
      "name": "CIE552_Spring2021_Assignment_Elsayed Mohammed Mostafa_201700316_harris_corner_detector.ipynb",
      "provenance": []
    }
  },
  "cells": [
    {
      "cell_type": "markdown",
      "metadata": {
        "id": "eTQGwPwP-QHj"
      },
      "source": [
        "**University of Science and Technology UST,  Zewail City**<br>\n",
        "**CIE Program**<br>\n",
        "**Computer Vision - CIE 552**<br>\n",
        "**Lab Assignment #5 - Harris Corner Detection**<br>"
      ]
    },
    {
      "cell_type": "markdown",
      "metadata": {
        "id": "TfMNXf-N-QHr"
      },
      "source": [
        "**Student Name:** Elsayed Mohammed Elsayed Mostafa <br>\n",
        "**Student ID:**   201700316"
      ]
    },
    {
      "cell_type": "markdown",
      "metadata": {
        "id": "TAceSRaA-QHs"
      },
      "source": [
        "# Imports"
      ]
    },
    {
      "cell_type": "code",
      "metadata": {
        "id": "YbpLwNG3-QHs"
      },
      "source": [
        "import numpy as np\n",
        "from matplotlib import pyplot as plt\n",
        "from scipy.signal import convolve2d, correlate2d\n",
        "from typing import List\n",
        "import cv2\n",
        "from scipy.ndimage import correlate, convolve\n",
        "import skimage\n",
        "from skimage.feature import peak_local_max"
      ],
      "execution_count": null,
      "outputs": []
    },
    {
      "cell_type": "markdown",
      "metadata": {
        "id": "yV3wMXI4-QHt"
      },
      "source": [
        "# Helper Functions"
      ]
    },
    {
      "cell_type": "code",
      "metadata": {
        "id": "aEGyvC0D-QHt"
      },
      "source": [
        "def show_images(images, titles):\n",
        "    #This function is used to show image(s) with titles by sending an array of images and an array of associated titles.\n",
        "    # images[0] will be drawn with the title titles[0] if exists\n",
        "    # You aren't required to understand this function, use it as-is.\n",
        "    assert len(images) == len(titles)\n",
        "    images = [cv2.cvtColor(img, cv2.COLOR_BGR2RGB) for img in images]\n",
        "    fig = plt.figure()\n",
        "    n_ims = len(images)\n",
        "    n = 1\n",
        "    for image,title in zip(images,titles):\n",
        "        a = fig.add_subplot(1,n_ims,n)\n",
        "        if image.ndim == 2: \n",
        "            plt.gray()\n",
        "        plt.imshow(image)\n",
        "        a.set_title(title)\n",
        "        n += 1\n",
        "    fig.set_size_inches(np.array(fig.get_size_inches()) * n_ims)\n",
        "    plt.show()"
      ],
      "execution_count": null,
      "outputs": []
    },
    {
      "cell_type": "markdown",
      "metadata": {
        "id": "yKZvbHrg-QHu"
      },
      "source": [
        "# Harris Detector Function"
      ]
    },
    {
      "cell_type": "code",
      "metadata": {
        "id": "spNHTmmN-QHu"
      },
      "source": [
        "def apply_harris(img, ksize= 3, k = 0.04, w_size = 4):\n",
        "    assert w_size%2 == 0 #Even Window Size\n",
        "    rows, cols = img.shape\n",
        "    # Smoothing\n",
        "    img = cv2.GaussianBlur(img,ksize=(ksize,ksize),sigmaX=1, sigmaY=1)\n",
        "    # Sobel\n",
        "    sobel_x = np.array([[-1,0,1],[-2,0,2],[-1,0,1]])\n",
        "    sobel_y = np.array([[1,2,1],[0,0,0],[-1,-2,-1]])\n",
        "    Ix = np.absolute(convolve2d(img, sobel_x, 'same'))\n",
        "    Iy = np.absolute(convolve2d(img, sobel_y, 'same'))\n",
        "    # Second Drev.\n",
        "    Ixx = np.multiply(Ix,Ix)\n",
        "    Iyy = np.multiply(Iy,Iy)\n",
        "    Ixy = np.multiply(Ix,Iy)\n",
        "    # Summations Over Windows\n",
        "    Sxx = np.zeros((rows,cols))\n",
        "    Syy = np.zeros((rows,cols))\n",
        "    Sxy = np.zeros((rows,cols))\n",
        "    R = np.zeros((rows,cols))\n",
        "    s_size = int(w_size/2)\n",
        "    for row in range(s_size, rows-w_size-1):\n",
        "        for col in range(s_size, cols-w_size-1):\n",
        "            Sxx[row,col] = np.sum(Ixx[row-s_size:row+s_size, col-s_size:col+s_size])\n",
        "            Syy[row,col] = np.sum(Iyy[row-s_size:row+s_size, col-s_size:col+s_size])\n",
        "            Sxy[row,col] = np.sum(Ixy[row-s_size:row+s_size, col-s_size:col+s_size])\n",
        "            det = Sxx[row,col]*Syy[row,col] - Sxy[row,col]**2\n",
        "            trace = Sxx[row,col]+Syy[row,col]\n",
        "            R[row,col] = det - k*(trace**2)\n",
        "    return R\n",
        "    "
      ],
      "execution_count": null,
      "outputs": []
    },
    {
      "cell_type": "markdown",
      "metadata": {
        "id": "MH_3NFwE-QHv"
      },
      "source": [
        "# Main Task (Applying Harris Corner Detector)"
      ]
    },
    {
      "cell_type": "code",
      "metadata": {
        "id": "QOB3qr9f-QHw",
        "outputId": "67492332-bd63-472d-b0a8-4decc8918da3"
      },
      "source": [
        "# Speicify the image path (just the name if it is in the same directory as the notebook/script)\n",
        "img_path = 'chess_board.jpg'\n",
        "#img_path = 'NotreDame1.jpg'\n",
        "# Read the image using openCV\n",
        "original_img = cv2.imread(img_path)\n",
        "img = cv2.cvtColor(original_img, cv2.COLOR_RGB2GRAY)\n",
        "#img = cv2.resize(img, (300,300))\n",
        "img = skimage.img_as_float32(img)\n",
        "# Visualizing the image\n",
        "plt.imshow(img, cmap='gray');"
      ],
      "execution_count": null,
      "outputs": [
        {
          "output_type": "display_data",
          "data": {
            "image/png": "[encoded data removed]",
            "text/plain": [
              "<Figure size 432x288 with 1 Axes>"
            ]
          },
          "metadata": {
            "tags": [],
            "needs_background": "light"
          }
        }
      ]
    },
    {
      "cell_type": "code",
      "metadata": {
        "id": "QBkVGdgG-QHx"
      },
      "source": [
        "# Use the function..\n",
        "R = apply_harris(img) "
      ],
      "execution_count": null,
      "outputs": []
    },
    {
      "cell_type": "code",
      "metadata": {
        "id": "12eApNV2-QHy",
        "outputId": "3cc57805-4a42-421c-f5c9-0e52be8526c2"
      },
      "source": [
        "thresh = 0.01*R.max()\n",
        "ret, thresholded_image = cv2.threshold(R, thresh, 1.0, 0, cv2.THRESH_BINARY)\n",
        "plt.imshow(thresholded_image, cmap='gray');"
      ],
      "execution_count": null,
      "outputs": [
        {
          "output_type": "display_data",
          "data": {
            "image/png": "[encoded data removed]",
            "text/plain": [
              "<Figure size 432x288 with 1 Axes>"
            ]
          },
          "metadata": {
            "tags": [],
            "needs_background": "light"
          }
        }
      ]
    },
    {
      "cell_type": "code",
      "metadata": {
        "id": "GZN8OIjX-QHy",
        "outputId": "4e90f55d-f748-45a1-ab61-e7fd8f9161e7"
      },
      "source": [
        "plt.imshow(original_img);\n",
        "p_image = peak_local_max(thresholded_image, min_distance = 20)\n",
        "Xs = p_image[:,1]\n",
        "Ys = p_image[:,0]\n",
        "plt.scatter(Xs,Ys,c='r', s=2);"
      ],
      "execution_count": null,
      "outputs": [
        {
          "output_type": "display_data",
          "data": {
            "image/png": "[encoded data removed]",
            "text/plain": [
              "<Figure size 432x288 with 1 Axes>"
            ]
          },
          "metadata": {
            "tags": [],
            "needs_background": "light"
          }
        }
      ]
    }
  ]
}