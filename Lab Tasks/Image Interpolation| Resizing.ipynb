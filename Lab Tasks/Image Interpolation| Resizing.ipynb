{
  "nbformat": 4,
  "nbformat_minor": 0,
  "metadata": {
    "kernelspec": {
      "display_name": "Python 3",
      "language": "python",
      "name": "python3"
    },
    "language_info": {
      "codemirror_mode": {
        "name": "ipython",
        "version": 3
      },
      "file_extension": ".py",
      "mimetype": "text/x-python",
      "name": "python",
      "nbconvert_exporter": "python",
      "pygments_lexer": "ipython3",
      "version": "3.8.5"
    },
    "colab": {
      "name": "CIE552_Spring2021_Assignment_Elsayed Mohammed Mostafa_201700316_interpolation.ipynb",
      "provenance": []
    }
  },
  "cells": [
    {
      "cell_type": "markdown",
      "metadata": {
        "id": "wRjcjuJF1Ur1"
      },
      "source": [
        "**University of Science and Technology UST,  Zewail City**<br>\n",
        "**CIE Program**<br>\n",
        "**Computer Vision - CIE 552**<br>\n",
        "**Lab Assignment #4 - Interpolation**<br>"
      ]
    },
    {
      "cell_type": "markdown",
      "metadata": {
        "id": "g6nZpU4R1Ur9"
      },
      "source": [
        "**Student Name:** Elsayed Mohammed Elsayed Mostafa <br>\n",
        "**Student ID:**   201700316"
      ]
    },
    {
      "cell_type": "markdown",
      "metadata": {
        "id": "jIeeSYg51Ur-"
      },
      "source": [
        "## Imports"
      ]
    },
    {
      "cell_type": "code",
      "metadata": {
        "id": "3q5WjfsD1Ur_"
      },
      "source": [
        "import numpy as np\n",
        "import math\n",
        "import cv2 \n",
        "%matplotlib inline\n",
        "from matplotlib import pyplot as plt"
      ],
      "execution_count": null,
      "outputs": []
    },
    {
      "cell_type": "markdown",
      "metadata": {
        "id": "yJR5fq1c1Ur_"
      },
      "source": [
        "## Helper Functions"
      ]
    },
    {
      "cell_type": "code",
      "metadata": {
        "id": "8TPyMhuW1UsA"
      },
      "source": [
        "def create_sharp_img():\n",
        "    \n",
        "    ksize = 7\n",
        "    \n",
        "    test_img = np.zeros((ksize,ksize))\n",
        "    #1-D to 3-D:\n",
        "    test_img = np.dstack([test_img,test_img,test_img])\n",
        "\n",
        "    test_img[1,1,0]= 1.0\n",
        "    test_img[1,5,1]= 1.0\n",
        "    test_img[ksize//2,ksize//2,:] = 1.0\n",
        "    test_img[5,5,2] = 1.0\n",
        "    test_img[5,1,1] = 1.0\n",
        "    test_img[5,1,0] = 1.0\n",
        "    \n",
        "    \n",
        "    #float to np.uint8\n",
        "    test_img = test_img/np.max(test_img)\n",
        "    test_img = test_img*255\n",
        "    test_img = test_img.astype(np.uint8)\n",
        "\n",
        "    \n",
        "    return test_img"
      ],
      "execution_count": null,
      "outputs": []
    },
    {
      "cell_type": "code",
      "metadata": {
        "id": "RGPenkn91UsA"
      },
      "source": [
        "def create_gaussian_filter(ksize, sigma=(1,1)):\n",
        "    '''''\n",
        "    - A functions creates a gaussian filter of an arbitary size (ksize*ksize)\n",
        "    @Parameters: \n",
        "        ksize: odd integer that represents the length and width of the mean filter\n",
        "        sigma: a tuble/list of 2 elements represents (x_sigma, y_sigma), where sigma is the standard deviation of each direction\n",
        "               However, the default value if 1 for both.\n",
        "    @Returns:\n",
        "        gaussian_filter: The obtained mean filter\n",
        "    '''''\n",
        "    assert ksize % 2 != 0\n",
        "    \n",
        "    # For the value of A, in case of sigma_x != sigma_y, I'll use the mean of both sigmas to evaluate the value of A\n",
        "    A = 1/(2*np.pi*np.mean(sigma))\n",
        "    # Creating a linspace for each direction (2D)\n",
        "    x = np.linspace(start = 0, stop = ksize-1, num = ksize)\n",
        "    y = x.copy()\n",
        "    # Calculate the mean of each direction (One value as they're the same linspace)\n",
        "    mu = np.mean(x)\n",
        "    # Create the meshgrid that represents the 2D values as a grid\n",
        "    X, Y = np.meshgrid(x,y)\n",
        "    # Applying the gaussian filter equation on the created grid\n",
        "    gaussian_filter = A * np.exp((-(X-mu)**2)/(2*sigma[0]) + (-(Y-mu)**2)/(2*sigma[1])) \n",
        "    return gaussian_filter"
      ],
      "execution_count": null,
      "outputs": []
    },
    {
      "cell_type": "code",
      "metadata": {
        "id": "uVHnMZu_1UsB"
      },
      "source": [
        "def plot_3_imgs(img_list):\n",
        "    fig = plt.figure(figsize=(20,10))\n",
        "\n",
        "    plt.subplot(1, 3, 1)\n",
        "    plt.imshow(img_list[0], cmap = 'gray')\n",
        "\n",
        "    plt.subplot(1, 3, 2)\n",
        "    plt.imshow(img_list[1])\n",
        "\n",
        "    plt.subplot(1, 3, 3)\n",
        "    plt.imshow(img_list[2])\n",
        "\n",
        "\n",
        "    plt.show()"
      ],
      "execution_count": null,
      "outputs": []
    },
    {
      "cell_type": "code",
      "metadata": {
        "id": "mOuV7V1g1UsB"
      },
      "source": [
        "def FullCubicInterp(p: list, x:float):\n",
        "    #Uses Catmull-Rom spline\n",
        "    a_interp = -0.5*p[0]  +  1.5*p[1] -  1.5*p[2] + 0.5*p[3]\n",
        "    b_interp = p[0] -  2.5*p[1] + 2*p[2] - 0.5*p[3]\n",
        "    c_interp = -0.5*p[0]  + 0.5*p[2]\n",
        "    d_interp = p[1]\n",
        "    \n",
        "    return a_interp*(x**3) + b_interp*(x**2) + c_interp*(x) + d_interp\n",
        "\n",
        "# Source: * https://www.paulinternet.nl/?page=bicubic , beware, cubicInterpolate function is faulty, use the one here."
      ],
      "execution_count": null,
      "outputs": []
    },
    {
      "cell_type": "code",
      "metadata": {
        "id": "nqxLLArl1UsC"
      },
      "source": [
        "def GetPixelValue(imArr: np.ndarray, posX: np.float64, posY: np.float64, method : str = 'CUBIC', verbose: bool = False):\n",
        "    '''\n",
        "    :function: Get the pixel value at the position given using the interpolation method given.\n",
        "    NB: The output is rounded as an integer since this function works on images. So, the function will not work on float values.\n",
        "    \n",
        "    \n",
        "    :param imArr: original image array, dtype must be np.uint8\n",
        "    \n",
        "    :param posX : X position of the point(dtype:float) needed. This is the X position of the T_inv(T(pixel[x])). Where T_inv and T are inverse\n",
        "    transform and transform respectively.\n",
        "    \n",
        "    :param posY : Y position of the point(dtype:float) needed. This is the Y position of the T_inv(T(pixel[y])). Where T_inv and T are inverse\n",
        "    transform and transform respectively.\n",
        "    \n",
        "    :param method : Type of interpolation method used.\n",
        "    \n",
        "    NB: T_inv(T(X)) != X due to rounding errors or due  to the fact that it may not be present (we are adding more pixels!)\n",
        "    \n",
        "    :return: value of pixel at T(pixel[x]),T(pixel[y])\n",
        "    \n",
        "    '''\n",
        "    \n",
        "    #Get integer and fractional parts of numbers \n",
        "        #(3- Make sure you account for edge cases (eg: negative indices, or indices that are outside the original source image))\n",
        "    \n",
        "    modXi = int(posX) #Shows x to the left of the point\n",
        "    modYi = int(posY) #Show y above the point\n",
        "\n",
        "    modXiPlusOneLim = min(modXi+1,imArr.shape[1]-1)\n",
        "    modYiPlusOneLim = min(modYi+1,imArr.shape[0]-1)\n",
        "    \n",
        "    modXiMinusOneLim = max(modXi-1,0)\n",
        "    modYiMinusOneLim = max(modYi-1,0)\n",
        "    \n",
        "    modXiPlusPlusOneLim = min(modXi+2,imArr.shape[1]-1)\n",
        "    modYiPlusPlusOneLim = min(modYi+2,imArr.shape[0]-1)\n",
        "    \n",
        "    modXf = max(0 , posX - modXi)\n",
        "    modYf = max(0 , posY - modYi)\n",
        "    \n",
        "    \n",
        "    x_s = [modXi , modXiPlusOneLim]\n",
        "    y_s = [modYi , modYiPlusOneLim]\n",
        "    \n",
        "    '''\n",
        "        (modXi,modYi)-------------------(modXiPlusOneLim,modYi)\n",
        "        |                                                |\n",
        "        |                                                |\n",
        "        |               (posX,posY)                      |\n",
        "        |                                                |\n",
        "        (modXi,modYiPlusOneLim)---------------------(modXiPlusOneLim,modYiPlusOneLim)\n",
        "        \n",
        "    '''\n",
        "   \n",
        "    \n",
        "    \n",
        "    if (method == \"NEAREST\"):\n",
        "\n",
        "        nearest_x = sorted( x_s, key = lambda x: (x-posX)**2 ) [0] \n",
        "        nearest_y = sorted( y_s, key = lambda y: (y-posY)**2 ) [0]\n",
        "        \n",
        "        if (verbose): print(f' Of points : {points_list}\\n. Point {(nearest_x,nearest_y)} is closest to {(posX, posY)}') \n",
        "        out = imArr[nearest_y,nearest_x,:]\n",
        "        \n",
        "    \n",
        "    elif (method == \"LINEAR\"):\n",
        "        out = []\n",
        "        \n",
        "        for chan in range(imArr.shape[2]):\n",
        "            #Get surrouding four points:  \n",
        "            bl = imArr[modYiPlusOneLim,modXi,chan] #bottom left\n",
        "            br = imArr[modYiPlusOneLim,modXiPlusOneLim,chan] #bottom right\n",
        "            \n",
        "            tl = imArr[modYi,modXi,chan] #top left\n",
        "            tr = imArr[modYi,modXiPlusOneLim,chan] #top right\n",
        "                \n",
        "                \n",
        "            #Line-Fitting \n",
        "            \n",
        "            #First Linear Fit: \n",
        "            b = (1-modXf)*bl+modXf*br #Bottom Line point\n",
        "            t = (1-modXf)*tl+modXf*tr #Top Line point\n",
        "           \n",
        "            #Second Linear Fit: \n",
        "            pxf = modYf*b+(1-modYf)*t  #Actual Point\n",
        "            out.append(int(np.round(pxf)))\n",
        "\n",
        "        \n",
        "    elif (method == \"CUBIC\"):\n",
        "        \n",
        "        out = []\n",
        "        \n",
        "        for chan in range(imArr.shape[2]):\n",
        "                \n",
        "\n",
        "                #Get surrouding 16 points: \n",
        "                \n",
        "                p = np.ndarray((4,4), dtype = np.float64)\n",
        "                \n",
        "                '''\n",
        "                p[0,0] -- p[0,1] ------------ p[0,2] -- p[0,3]\n",
        "                    |        |                   |        |\n",
        "                p[1,0] -- p[1,1] ------------ p[1,2] -- p[1,3]\n",
        "                    |        |    (posX,posY)   |         |\n",
        "                p[2,0] -- p[2,1] ------------ p[2,2] -- p[2,3]\n",
        "                    |        |                   |         |\n",
        "                p[3,0] -- p[3,1] ------------ p[3,2] -- p[3,3]\n",
        "\n",
        "                '''\n",
        "                p[0,0]= imArr[ modYiMinusOneLim, modXiMinusOneLim, chan]\n",
        "                p[0,1]= imArr[ modYiMinusOneLim, modXi, chan]\n",
        "                p[0,2]= imArr[ modYiMinusOneLim, modXiPlusOneLim, chan]\n",
        "                p[0,3]= imArr[ modYiMinusOneLim, modXiPlusPlusOneLim, chan]\n",
        "\n",
        "                p[1,0]= imArr[ modYi, modXiMinusOneLim, chan]\n",
        "                p[1,1]= imArr[ modYi, modXi, chan]\n",
        "                p[1,2]= imArr[ modYi, modXiPlusOneLim, chan]\n",
        "                p[1,3]= imArr[ modYi, modXiPlusPlusOneLim, chan]\n",
        "\n",
        "                p[2,0]= imArr[ modYiPlusOneLim, modXiMinusOneLim, chan]\n",
        "                p[2,1]= imArr[ modYiPlusOneLim, modXi, chan]\n",
        "                p[2,2]= imArr[ modYiPlusOneLim, modXiPlusOneLim, chan]\n",
        "                p[2,3]= imArr[ modYiPlusOneLim, modXiPlusPlusOneLim, chan]\n",
        "\n",
        "                p[3,0]= imArr[ modYiPlusPlusOneLim, modXiMinusOneLim, chan]\n",
        "                p[3,1]= imArr[ modYiPlusPlusOneLim, modXi, chan]\n",
        "                p[3,2]= imArr[ modYiPlusPlusOneLim, modXiPlusOneLim, chan]\n",
        "                p[3,3]= imArr[ modYiPlusPlusOneLim, modXiPlusPlusOneLim, chan]\n",
        "\n",
        "\n",
        "                \n",
        "                #First Cubic Fit:\n",
        "                p_cubic = [0.0, 0.0, 0.0, 0.0]\n",
        "                p_cubic[0] = FullCubicInterp(list(p[0,:]), modXf)\n",
        "                p_cubic[1] = FullCubicInterp(list(p[1,:]), modXf)\n",
        "                p_cubic[2] = FullCubicInterp(list(p[2,:]), modXf)\n",
        "                p_cubic[3] = FullCubicInterp(list(p[3,:]), modXf)\n",
        "                \n",
        "                \n",
        "                #Second Cubic Fit: #TODO 02\n",
        "                point = FullCubicInterp(p_cubic, modYf)\n",
        "                \n",
        "                \n",
        "                #Append this channel value:\n",
        "                out.append( np.clip(int(np.round(point)), 0, 255) ) #Do we need to clip in the bilinear mode ? No. Why ?\n",
        "            \n",
        "            \n",
        "            \n",
        "    else:\n",
        "        raise ValueError('UNKNOWN INTERPOLATION METHOD REQUESTED')\n",
        " \n",
        "        \n",
        "    \n",
        "    return out"
      ],
      "execution_count": null,
      "outputs": []
    },
    {
      "cell_type": "markdown",
      "metadata": {
        "id": "lppou_0e1UsJ"
      },
      "source": [
        "## Testing"
      ]
    },
    {
      "cell_type": "code",
      "metadata": {
        "colab": {
          "base_uri": "https://localhost:8080/",
          "height": 377
        },
        "id": "bohlPes01UsK",
        "outputId": "93e2446d-31c9-429d-dfe8-140c27ea0cb8"
      },
      "source": [
        "smooth_test_img    = create_gaussian_filter(ksize = 51, sigma= (4.0,4.0))\n",
        "smooth_test_img  = ((smooth_test_img/np.max(smooth_test_img))*255).astype(np.uint8)\n",
        "smooth_test_img = np.dstack([smooth_test_img,smooth_test_img,smooth_test_img])\n",
        "\n",
        "sharp_test_img     = create_sharp_img()\n",
        "\n",
        "character_test_img = cv2.imread('Curve2.png')[:,:, ::-1] #[:,:, ::-1]  --> BGR to RGB\n",
        "\n",
        "\n",
        "imgs_list = [smooth_test_img, sharp_test_img, character_test_img]\n",
        "\n",
        "plot_3_imgs(imgs_list)"
      ],
      "execution_count": null,
      "outputs": [
        {
          "output_type": "display_data",
          "data": {
            "image/png": "[encoded data removed]",
            "text/plain": [
              "<Figure size 1440x720 with 3 Axes>"
            ]
          },
          "metadata": {
            "tags": [],
            "needs_background": "light"
          }
        }
      ]
    },
    {
      "cell_type": "code",
      "metadata": {
        "id": "7Ib8RjoP1UsL"
      },
      "source": [
        "#define the resizing ratio..\n",
        "resize_ratio = 3"
      ],
      "execution_count": null,
      "outputs": []
    },
    {
      "cell_type": "code",
      "metadata": {
        "colab": {
          "base_uri": "https://localhost:8080/",
          "height": 396
        },
        "id": "nrq3JbaK1UsM",
        "outputId": "38cab5ff-4bb9-4f64-92ff-047b6ff4a998"
      },
      "source": [
        "#Bilinear Interpolation:\n",
        "my_linear_resized_list = []\n",
        "for test_img in imgs_list:\n",
        "\n",
        "    im  = test_img\n",
        "    #1 : Calculate the size of the new image give the transformation\n",
        "    enlargedShape = ( int(np.round(im.shape[0]*resize_ratio)),\n",
        "                      int(np.round(im.shape[1]*resize_ratio)),\n",
        "                      im.shape[2]\n",
        "                    )\n",
        "    enlargedImg = np.empty(enlargedShape, dtype=np.uint8)  #Empty new image\n",
        "\n",
        "\n",
        "    #Calculate the inverse transform \n",
        "    #(Note here that the inverse transform is calculated from the actual size, not from 1/resize_ratio)\n",
        "    rowScale = float(im.shape[0]) / float(enlargedImg.shape[0])\n",
        "    colScale = float(im.shape[1]) / float(enlargedImg.shape[1])\n",
        "\n",
        "\n",
        "    #2- Loop over pixels in the the new -now empty- image and assign them one by one by:\n",
        "    for r in range(enlargedImg.shape[0]):\n",
        "        for c in range(enlargedImg.shape[1]):\n",
        "\n",
        "            #Applying inverse transformation to the pixel postions from the new image:\n",
        "            #3- Make sure you account for edge cases (eg: negative indices, or indices that are outside the original source image)\n",
        "            orir = (r-(1/rowScale)//2) * rowScale #(r-resize_ratio/2) * rowScale #Find original row in original image\n",
        "            oric = (c-(1/colScale)//2) * colScale #(c-resize_ratio/2) * colScale\n",
        "            #Interpolating value for the inverse(new_pixel_position) from surrounding pixels in source image\n",
        "            enlargedImg[r, c] = GetPixelValue(im, oric, orir, method = \"LINEAR\", verbose = False)\n",
        "\n",
        "    my_linear_resized_list.append(enlargedImg)\n",
        "\n",
        "print('LINEAR')\n",
        "plot_3_imgs(my_linear_resized_list)\n",
        "\n"
      ],
      "execution_count": null,
      "outputs": [
        {
          "output_type": "stream",
          "text": [
            "LINEAR\n"
          ],
          "name": "stdout"
        },
        {
          "output_type": "display_data",
          "data": {
            "image/png": "[encoded data removed]",
            "text/plain": [
              "<Figure size 1440x720 with 3 Axes>"
            ]
          },
          "metadata": {
            "tags": [],
            "needs_background": "light"
          }
        }
      ]
    },
    {
      "cell_type": "code",
      "metadata": {
        "colab": {
          "base_uri": "https://localhost:8080/",
          "height": 396
        },
        "id": "JrZPMEFU1UsM",
        "outputId": "7252218b-de35-4a28-f7d1-6bfdb58967c4"
      },
      "source": [
        "#Bicbuic Interpolation:\n",
        "my_cubic_resized_list = []\n",
        "for test_img in imgs_list:\n",
        "\n",
        "    im  = test_img\n",
        "    #1 : Calculate the size of the new image give the transformation\n",
        "    enlargedShape = ( int(np.round(im.shape[0]*resize_ratio)),\n",
        "                      int(np.round(im.shape[1]*resize_ratio)),\n",
        "                      im.shape[2]\n",
        "                    )\n",
        "    enlargedImg = np.empty(enlargedShape, dtype=np.uint8)  #Empty new image\n",
        "\n",
        "\n",
        "    #Calculate the inverse transform \n",
        "    #(Note here that the inverse transform is calculated from the actual size, not from 1/resize_ratio)\n",
        "    rowScale = float(im.shape[0]) / float(enlargedImg.shape[0])\n",
        "    colScale = float(im.shape[1]) / float(enlargedImg.shape[1])\n",
        "\n",
        "\n",
        "    #2- Loop over pixels in the the new -now empty- image and assign them one by one by:\n",
        "    for r in range(enlargedImg.shape[0]):\n",
        "        for c in range(enlargedImg.shape[1]):\n",
        "\n",
        "            #Applying inverse transformation to the pixel postions from the new image:\n",
        "            #3- Make sure you account for edge cases (eg: negative indices, or indices that are outside the original source image)\n",
        "            orir = (r-(1/rowScale)//2) * rowScale #(r-resize_ratio/2) * rowScale #Find original row in original image\n",
        "            oric = (c-(1/colScale)//2) * colScale #(c-resize_ratio/2) * colScale\n",
        "\n",
        "            #Interpolating value for the inverse(new_pixel_position) from surrounding pixels in source image\n",
        "            enlargedImg[r, c] = GetPixelValue(im, oric, orir, method = \"CUBIC\", verbose = False)\n",
        "\n",
        "    my_cubic_resized_list.append(enlargedImg)\n",
        "\n",
        "print('CUBIC')\n",
        "plot_3_imgs(my_cubic_resized_list)\n"
      ],
      "execution_count": null,
      "outputs": [
        {
          "output_type": "stream",
          "text": [
            "CUBIC\n"
          ],
          "name": "stdout"
        },
        {
          "output_type": "display_data",
          "data": {
            "image/png": "[encoded data removed]",
            "text/plain": [
              "<Figure size 1440x720 with 3 Axes>"
            ]
          },
          "metadata": {
            "tags": [],
            "needs_background": "light"
          }
        }
      ]
    },
    {
      "cell_type": "markdown",
      "metadata": {
        "id": "iofQ1bO71UsN"
      },
      "source": [
        "### OpenCV Cubic Interpolation"
      ]
    },
    {
      "cell_type": "code",
      "metadata": {
        "colab": {
          "base_uri": "https://localhost:8080/",
          "height": 396
        },
        "id": "601WKnY11UsN",
        "outputId": "28365fbc-f82c-4314-f4cf-593db09f5c47"
      },
      "source": [
        "#Bicubic Interpolation:\n",
        "cubic_resized_list = []\n",
        "for test_img in imgs_list:\n",
        "    resized = cv2.resize(test_img, \n",
        "                         (int(test_img.shape[1]*resize_ratio) ,int(test_img.shape[0]*resize_ratio) ), interpolation = cv2.INTER_CUBIC)\n",
        "    cubic_resized_list.append(resized)\n",
        "    \n",
        "print('CUBIC')\n",
        "plot_3_imgs(cubic_resized_list)"
      ],
      "execution_count": null,
      "outputs": [
        {
          "output_type": "stream",
          "text": [
            "CUBIC\n"
          ],
          "name": "stdout"
        },
        {
          "output_type": "display_data",
          "data": {
            "image/png": "[encoded data removed]",
            "text/plain": [
              "<Figure size 1440x720 with 3 Axes>"
            ]
          },
          "metadata": {
            "tags": [],
            "needs_background": "light"
          }
        }
      ]
    }
  ]
}